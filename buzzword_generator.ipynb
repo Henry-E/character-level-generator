{
 "cells": [
  {
   "cell_type": "markdown",
   "metadata": {},
   "source": [
    "# Character level generator code\n",
    "\n",
    "All credit for 90% of the code goes to [Yoav Goldberg](http://www.cs.biu.ac.il/~yogo)\n",
    "\n"
   ]
  },
  {
   "cell_type": "markdown",
   "metadata": {},
   "source": [
    "### Training Code\n",
    "Here is the code for training the model. `fname` is a file to read the characters from. `order` is the history size to consult. Note that we pad the data with leading `~` so that we also learn how to start."
   ]
  },
  {
   "cell_type": "code",
   "execution_count": 48,
   "metadata": {
    "collapsed": true
   },
   "outputs": [],
   "source": [
    "from collections import *\n",
    "\n",
    "def train_char_lm(fname, order=4):\n",
    "    data = file(fname).read()\n",
    "    lm = defaultdict(Counter)\n",
    "    pad = \"~\" * order\n",
    "    data = pad + data\n",
    "    for i in xrange(len(data)-order):\n",
    "        history, char = data[i:i+order], data[i+order]\n",
    "        lm[history][char]+=1\n",
    "    def normalize(counter):\n",
    "        s = float(sum(counter.values()))\n",
    "        return [(c,cnt/s) for c,cnt in counter.iteritems()]\n",
    "    outlm = {hist:normalize(chars) for hist, chars in lm.iteritems()}\n",
    "    return outlm, data"
   ]
  },
  {
   "cell_type": "markdown",
   "metadata": {},
   "source": [
    "### Generating from the model\n",
    "Generating is also very simple. To generate a letter, we will take the history, look at the last $order$ characteters, and then sample a random letter based on the corresponding distribution."
   ]
  },
  {
   "cell_type": "code",
   "execution_count": 49,
   "metadata": {
    "collapsed": true
   },
   "outputs": [],
   "source": [
    "from random import random\n",
    "\n",
    "def generate_letter(lm, history, order):\n",
    "        history = history[-order:]\n",
    "        dist = lm[history]\n",
    "        x = random()\n",
    "        for c,v in dist:\n",
    "            x = x - v\n",
    "            if x <= 0: return c"
   ]
  },
  {
   "cell_type": "markdown",
   "metadata": {},
   "source": [
    "To generate a passage of $k$ characters, we just seed it with the initial history and run letter generation in a loop, updating the history at each turn."
   ]
  },
  {
   "cell_type": "code",
   "execution_count": 50,
   "metadata": {
    "collapsed": true
   },
   "outputs": [],
   "source": [
    "def generate_text(lm, order, nletters=2000):\n",
    "    history = \"~\" * order\n",
    "    out = []\n",
    "    for i in xrange(nletters):\n",
    "        c = generate_letter(lm, history, order)\n",
    "        history = history[-order:] + c\n",
    "        out.append(c)\n",
    "    return \"\".join(out)"
   ]
  },
  {
   "cell_type": "markdown",
   "metadata": {},
   "source": [
    "For ease of use as an amusing generator we make a single function that makes the language model, generates some text and checks what phrases created by the generator already exist in the dataset and strip them out"
   ]
  },
  {
   "cell_type": "code",
   "execution_count": 51,
   "metadata": {
    "collapsed": true
   },
   "outputs": [],
   "source": [
    "def train_and_generate(fname, order=4):\n",
    "    lm, data = train_char_lm(fname, order)\n",
    "    random_buzzwords = generate_text(lm, order).splitlines()\n",
    "    data = data.splitlines()\n",
    "    new_buzzwords = []\n",
    "    for buzzword in random_buzzwords:\n",
    "        if buzzword not in data:\n",
    "            new_buzzwords.append(buzzword)\n",
    "    return \"\\n\".join(new_buzzwords)"
   ]
  },
  {
   "cell_type": "markdown",
   "metadata": {},
   "source": [
    "### Actual examples \n",
    "\n",
    "It makes a difference whether we use order 3 or 4 in terms of randomness or interestingness"
   ]
  },
  {
   "cell_type": "code",
   "execution_count": 58,
   "metadata": {
    "collapsed": false
   },
   "outputs": [
    {
     "name": "stdout",
     "output_type": "stream",
     "text": [
      "accountable table\n",
      "bring\n",
      "leverable tail\n",
      "down\n",
      "drill downsizing\n",
      "core communicationary\n",
      "evangel invested common core capital divide\n",
      "disruptive interprise\n",
      "entiated in\n",
      "knowledge\n",
      "web designagement\n",
      "flipped class\n",
      "best of our dna\n",
      "passional software\n",
      "software\n",
      "software\n",
      "missionate\n",
      "content\n",
      "big datafication\n",
      "tractive\n",
      "deliverse fulfilment\n",
      "traction society\n",
      "deep divide\n",
      "emergies\n",
      "organic growth hack\n",
      "hacking your own dogfood\n",
      "society\n",
      "bleeding the airbnb for x\n",
      "the end of our own dogfood\n",
      "empowermedia\n",
      "sponsive web\n",
      "design patten\n",
      "virtualize\n",
      "society\n",
      "bleeding tail\n",
      "low hange agent\n",
      "building forward\n",
      "exit strategic competency\n",
      "creating to the facebook forward\n",
      "multiple innovation\n",
      "pick\n",
      "clearning\n",
      "society\n",
      "seamline\n",
      "student vision socialization\n",
      "share optimization virtual rights\n",
      "herding your dna\n",
      "passion y\n",
      "going page\n",
      "rockstartup\n",
      "search engagement\n",
      "come-to-jesus model canvas\n",
      "content management vision virtual real-time\n",
      "responsive interprise services\n",
      "responsive innovationship management\n",
      "reverage\n",
      "rockstartup\n",
      "synerging\n",
      "ange\n",
      "search engagement\n",
      "ented product\n",
      "churn on invested process mode\n",
      "free value-added\n",
      "virtualization rategy\n",
      "document\n",
      "disruptive\n",
      "deliversion\n",
      "deep diverage\n",
      "eating page\n",
      "eative\n",
      "digital software\n",
      "web service\n",
      "building capital\n",
      "immer\n",
      "agile devices\n",
      "nanotechnologies\n",
      "diverage\n",
      "eating edge product\n",
      "churn on investor\n",
      "angel investment manage\n",
      "rockstartup\n",
      "star\n",
      "interprise\n",
      "ented competency\n",
      "creating forward\n",
      "multiple interprise\n",
      "entiated instruction\n",
      "synerging\n",
      "intern\n",
      "dive\n",
      "internet of breed\n",
      "business\n",
      "omnichangel invested in\n",
      "knowledge p\n"
     ]
    }
   ],
   "source": [
    "print train_and_generate(\"buzzwords.txt\", order =4)"
   ]
  },
  {
   "cell_type": "markdown",
   "metadata": {},
   "source": [
    "Using the three previous character leads to much more unintelligible but potentially buzzwordy words"
   ]
  },
  {
   "cell_type": "code",
   "execution_count": 62,
   "metadata": {
    "collapsed": false
   },
   "outputs": [
    {
     "name": "stdout",
     "output_type": "stream",
     "text": [
      "accountableed common x\n",
      "thouservices\n",
      "sea changelisticess\n",
      "synerate\n",
      "free offshove learly-start reak\n",
      "brogrammerging\n",
      "omnication the box\n",
      "survices\n",
      "nanotechnologies\n",
      "different\n",
      "ant\n",
      "collability\n",
      "hyperlocalaborationar\n",
      "bric\n",
      "homent manal system\n",
      "conternetworkflow\n",
      "busine\n",
      "tal software\n",
      "we age\n",
      "low\n",
      "grand offlix formal\n",
      "infor x\n",
      "thouse\n",
      "tal\n",
      "down down down down define\n",
      "ent horinking fruity\n",
      "sistice\n",
      "bransmedildonicats\n",
      "hight lear goal\n",
      "servival sign pagent manage\n",
      "webscaffolksonomy\n",
      "net\n",
      "telligency\n",
      "sis\n",
      "park figure cloud\n",
      "cloud clution\n",
      "core capi\n",
      "business\n",
      "parsity\n",
      "service\n",
      "cross-to-business praction conternet of outsideative who web\n",
      "del capital remasting forward\n",
      "multiple development managemer\n",
      "student learly-stage\n",
      "ent\n",
      "star\n",
      "stakeholisting\n",
      "ble\n",
      "mon y\n",
      "globallparalytics\n",
      "apital rights moduction software who we are optive\n",
      "gamificale\n",
      "earning\n",
      "holistems design\n",
      "revoluting\n",
      "common viable\n",
      "hypermenterprinking\n",
      "co-ope\n",
      "quick the kool-aid\n",
      "ent\n",
      "socience\n",
      "breal-time\n",
      "reture devoluttenture\n",
      "mill divide\n",
      "peelhough\n",
      "click\n",
      "shorientent\n",
      "sustor\n",
      "sweation\n",
      "socializationsore capital\n",
      "profit systed compliantifragile\n",
      "alization\n",
      "socient managemententric\n",
      "cyber breadigm\n",
      "parading\n",
      "digital dive time\n",
      "rocks\n",
      "bestment\n",
      "parketitication\n",
      "del\n",
      "on visibile\n",
      "webinability\n",
      "vlogisticalaborategic convest poing tail\n",
      "logy\n",
      "scal\n",
      "mon supermedia\n",
      "sponsored innovation\n",
      "star\n",
      "growth mome-to-end-to-converse technolog\n",
      "brick\n",
      "spin-clience\n",
      "deveration\n",
      "virtual current systems\n",
      "digital capi\n",
      "building\n",
      "push the engage\n",
      "web devices\n",
      "mill dive leadlign\n",
      "work fulfilmentellighway\n",
      "instrator\n",
      "ange airbnb for x\n",
      "genergent manalysication\n",
      "student\n",
      "change\n",
      "digm ship marking to thing capital\n",
      "impaction\n",
      "tracy\n",
      "digital\n",
      "digital divide this\n",
      "pand-to-end-to-busine\n",
      "ent\n",
      "invest of break\n",
      "bransmeding\n",
      "channel\n",
      "viralysication\n",
      "growth hack\n",
      "circleadersity\n",
      "vent\n",
      "digital\n",
      "ster thinking\n",
      "off\n",
      "though think outside throught leadligeneraterfallparal\n",
      "mining\n",
      "use\n",
      "touch envestment manalysis by anage\n",
      "data\n",
      "big dataficat\n"
     ]
    }
   ],
   "source": [
    "print train_and_generate(\"buzzwords.txt\", order=3)"
   ]
  },
  {
   "cell_type": "code",
   "execution_count": null,
   "metadata": {
    "collapsed": true
   },
   "outputs": [],
   "source": []
  }
 ],
 "metadata": {
  "kernelspec": {
   "display_name": "Python 2",
   "language": "python",
   "name": "python2"
  },
  "language_info": {
   "codemirror_mode": {
    "name": "ipython",
    "version": 2
   },
   "file_extension": ".py",
   "mimetype": "text/x-python",
   "name": "python",
   "nbconvert_exporter": "python",
   "pygments_lexer": "ipython2",
   "version": "2.7.12"
  }
 },
 "nbformat": 4,
 "nbformat_minor": 0
}
